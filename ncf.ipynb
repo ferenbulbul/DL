{
 "cells": [
  {
   "cell_type": "code",
   "execution_count": 32,
   "id": "ca2a63a7",
   "metadata": {},
   "outputs": [],
   "source": [
    "import pandas as pd\n",
    "import numpy as np\n",
    "import tensorflow as tf\n",
    "from sklearn.preprocessing import LabelEncoder\n",
    "from sklearn.model_selection import train_test_split\n",
    "from tensorflow.keras.layers import Input, Embedding, Flatten, Concatenate, Dense, LSTM, TextVectorization\n",
    "from tensorflow.keras.models import Model\n",
    "from tensorflow.keras.callbacks import EarlyStopping\n",
    "import keras\n"
   ]
  },
  {
   "cell_type": "code",
   "execution_count": 33,
   "id": "22d55d02",
   "metadata": {},
   "outputs": [],
   "source": [
    "df = pd.read_csv('Reviews.csv')"
   ]
  },
  {
   "cell_type": "code",
   "execution_count": 34,
   "id": "187081fa",
   "metadata": {},
   "outputs": [],
   "source": [
    "user_enc = LabelEncoder()\n",
    "item_enc = LabelEncoder()\n",
    "\n",
    "df['user'] = user_enc.fit_transform(df['UserId'].astype(str))\n",
    "df['item'] = item_enc.fit_transform(df['ProductId'].astype(str))\n",
    "\n",
    "num_users = df['user'].nunique()\n",
    "num_items = df['item'].nunique()\n"
   ]
  },
  {
   "cell_type": "code",
   "execution_count": 35,
   "id": "3c04f509",
   "metadata": {},
   "outputs": [],
   "source": [
    "X = df[['user', 'item', 'Text']]\n",
    "y = df['Score'].astype(np.float32)\n",
    "\n",
    "X_train, X_test, y_train, y_test = train_test_split(X, y, test_size=0.2, random_state=42)"
   ]
  },
  {
   "cell_type": "code",
   "execution_count": 37,
   "id": "823c9bb9",
   "metadata": {},
   "outputs": [
    {
     "name": "stdout",
     "output_type": "stream",
     "text": [
      "<dtype: 'int32'> (454763,)\n",
      "<dtype: 'int32'> (454763,)\n",
      "<dtype: 'string'> (454763,)\n",
      "<dtype: 'int32'> (113691,)\n",
      "<dtype: 'int32'> (113691,)\n",
      "<dtype: 'string'> (113691,)\n",
      "<dtype: 'float32'> (454763,)\n",
      "<dtype: 'float32'> (113691,)\n"
     ]
    }
   ],
   "source": [
    "train_user_input = tf.convert_to_tensor(X_train['user'].values, dtype=tf.int32)\n",
    "train_item_input = tf.convert_to_tensor(X_train['item'].values, dtype=tf.int32)\n",
    "train_text_input = tf.convert_to_tensor(X_train['Text'].astype(str).tolist(), dtype=tf.string)\n",
    "\n",
    "val_user = tf.convert_to_tensor(X_test['user'].values, dtype=tf.int32)\n",
    "val_item = tf.convert_to_tensor(X_test['item'].values, dtype=tf.int32)\n",
    "val_text = tf.convert_to_tensor(X_test['Text'].astype(str).tolist(), dtype=tf.string)\n",
    "\n",
    "y_train_tensor = tf.convert_to_tensor(y_train.values, dtype=tf.float32)\n",
    "y_test_tensor = tf.convert_to_tensor(y_test.values, dtype=tf.float32)\n",
    "\n",
    "print(train_user_input.dtype, train_user_input.shape)   # tf.int32\n",
    "print(train_item_input.dtype, train_item_input.shape)   # tf.int32\n",
    "print(train_text_input.dtype, train_text_input.shape)   # tf.string\n",
    "\n",
    "print(val_user.dtype, val_user.shape)   # tf.int32\n",
    "print(val_item.dtype, val_item.shape)   # tf.int32\n",
    "print(val_text.dtype, val_text.shape)   # tf.string\n",
    "\n",
    "print(y_train_tensor.dtype, y_train_tensor.shape)   # tf.float32\n",
    "print(y_test_tensor.dtype, y_test_tensor.shape)   # tf.float32"
   ]
  },
  {
   "cell_type": "code",
   "execution_count": 39,
   "id": "8ef6a126",
   "metadata": {},
   "outputs": [],
   "source": [
    "text_vec = TextVectorization(output_sequence_length=100, max_tokens=5000)\n",
    "text_ds = tf.data.Dataset.from_tensor_slices(train_text_input).batch(32)\n",
    "text_vec.adapt(text_ds)"
   ]
  },
  {
   "cell_type": "code",
   "execution_count": 40,
   "id": "38659ac4",
   "metadata": {},
   "outputs": [],
   "source": [
    "user_input = Input(shape=(1,), name='user_input')\n",
    "item_input = Input(shape=(1,), name='item_input')\n",
    "text_input = Input(shape=(1,), dtype=tf.string, name='text_input')\n"
   ]
  },
  {
   "cell_type": "code",
   "execution_count": 41,
   "id": "49a69026",
   "metadata": {},
   "outputs": [],
   "source": [
    "user_embedding = Embedding(input_dim=num_users, output_dim=32, name='user_embedding')(user_input)\n",
    "item_embedding = Embedding(input_dim=num_items, output_dim=32, name='item_embedding')(item_input)\n",
    "\n",
    "user_vec = Flatten()(user_embedding)\n",
    "item_vec = Flatten()(item_embedding)"
   ]
  },
  {
   "cell_type": "code",
   "execution_count": 42,
   "id": "d454706f",
   "metadata": {},
   "outputs": [],
   "source": [
    "\n",
    "# Text Embedding via LSTM\n",
    "x = text_vec(text_input)\n",
    "x = Embedding(input_dim=5000, output_dim=32)(x)\n",
    "x = LSTM(64)(x)\n",
    "review_vec = x"
   ]
  },
  {
   "cell_type": "code",
   "execution_count": 43,
   "id": "9602bb54",
   "metadata": {},
   "outputs": [],
   "source": [
    "combined = Concatenate()([user_vec, item_vec, review_vec])\n",
    "x = Dense(128, activation='relu')(combined)\n",
    "x = Dense(64, activation='relu')(x)\n",
    "output = Dense(1)(x)\n",
    "\n",
    "model = Model(inputs=[user_input, item_input, text_input], outputs=output)\n",
    "model.compile(optimizer='adam', loss='mse', metrics=['mae'])"
   ]
  },
  {
   "cell_type": "code",
   "execution_count": 44,
   "id": "18fee765",
   "metadata": {},
   "outputs": [
    {
     "data": {
      "text/plain": [
       "array([\"Like many others have said, this is INSTANT coffee, not only that but it is terrible instant coffee. Don't Buy!\",\n",
       "       \"We are a 2 person household with one diabetic and one low-carber.  We love this pasta and eat it at least once per week.  We haven't noticed any appreciable rise in blood glucose level, or any negative effects on low-carb dieting while using this product.  Of course we limit the portion and eat it with plenty of protein and vegetables, which probably helps prevent glucose/insulin spikes.  I think we have had success because the proportion of pasta to protein and vegetables is low.  But essentially this pasta is delicious and we highly recommend it.\",\n",
       "       'These might be the best chips I have ever had.  The \"Used By\" date is March 2011, but I had to cut this bag open as it was sealed up so tightly (this is the first bag of chips I\\'ve had to cut open..if I really reeked on it I could have got it, but I didn\\'t want it to explode in my face).  No worries, you will be happy you got these.',\n",
       "       ...,\n",
       "       'eight oclock makes great coffee and with balance of decaf and regular this product is one of the only ones made this way.',\n",
       "       'I already liked regular Stash Earl Grey and so dared to try this doubled bergamot variant. This Earl Grey variant is the best I have tried out of many. There may be ones stronger in both aspects of the black tea and bergamot or more balanced -- but I only know that this \"Double Bergamot Earl Grey\" is a very balanced rich black tea with bergamot -- and it is organic like other Stash teas. This doubled bergamot Earl Grey is great hot with milk and brown sugar -- or icy with just a tad lemon or lime to add to the bergamot -- or without such additions. Also it is so rich someone can add it to other plain, even modest, black tea [bags one-for-one] for a more mellow bergamot tea. I even found it interesting with black mint tea [bags one-for-one] as this variant is not overwhelmed by other teas +++',\n",
       "       \"I have 5-7 dogs at any given time, sometimes feeding as many as 4 different foods at once. I show dogs in AKC conformation and foster rescue dogs. I look for a high-grade kibble that meets each of their dietary needs, keeps them in optimal condition (skin/coat) and most importantly, that they will eat! I have one dog that will only eat small bites, and several other dogs that are FINICKY.  I tried it on a whim (can you say SALE) and now I LOVE LOVE LOVE this food...Sure, it may seem expensive, but I believe if you feed a high-quality food you save money on vet bills down the road and help insure your pets longevity.  My dogs look and feel great after 6 months on it. I've fed MANY brands of high-grade kibble over the years, this one takes the cake.\"],\n",
       "      dtype=object)"
      ]
     },
     "execution_count": 44,
     "metadata": {},
     "output_type": "execute_result"
    }
   ],
   "source": [
    "X_train['Text'].astype(str).values"
   ]
  },
  {
   "cell_type": "code",
   "execution_count": 46,
   "id": "5f4fb156",
   "metadata": {},
   "outputs": [
    {
     "name": "stdout",
     "output_type": "stream",
     "text": [
      "<dtype: 'int32'> (454763,)\n",
      "<dtype: 'int32'> (454763,)\n",
      "<dtype: 'string'> (454763,)\n",
      "<dtype: 'int32'> (113691,)\n",
      "<dtype: 'int32'> (113691,)\n",
      "<dtype: 'string'> (113691,)\n",
      "<dtype: 'float32'> (454763,)\n",
      "<dtype: 'float32'> (113691,)\n"
     ]
    }
   ],
   "source": [
    "print(train_user_input.dtype, train_user_input.shape)   # tf.int32\n",
    "print(train_item_input.dtype, train_item_input.shape)   # tf.int32\n",
    "print(train_text_input.dtype, train_text_input.shape)   # tf.string\n",
    "\n",
    "print(val_user.dtype, val_user.shape)   # tf.int32\n",
    "print(val_item.dtype, val_item.shape)   # tf.int32\n",
    "print(val_text.dtype, val_text.shape)   # tf.string\n",
    "\n",
    "print(y_train_tensor.dtype, y_train_tensor.shape)   # tf.float32\n",
    "print(y_test_tensor.dtype, y_test_tensor.shape)   # tf.float32"
   ]
  },
  {
   "cell_type": "code",
   "execution_count": 48,
   "id": "ce9ed332",
   "metadata": {},
   "outputs": [
    {
     "name": "stdout",
     "output_type": "stream",
     "text": [
      "Epoch 1/10\n",
      "\u001b[1m1777/1777\u001b[0m \u001b[32m━━━━━━━━━━━━━━━━━━━━\u001b[0m\u001b[37m\u001b[0m \u001b[1m246s\u001b[0m 138ms/step - loss: 2.0124 - mae: 1.0318 - val_loss: 0.5750 - val_mae: 0.4845\n",
      "Epoch 2/10\n",
      "\u001b[1m1777/1777\u001b[0m \u001b[32m━━━━━━━━━━━━━━━━━━━━\u001b[0m\u001b[37m\u001b[0m \u001b[1m267s\u001b[0m 150ms/step - loss: 0.3342 - mae: 0.3499 - val_loss: 0.5170 - val_mae: 0.4306\n",
      "Epoch 3/10\n",
      "\u001b[1m1777/1777\u001b[0m \u001b[32m━━━━━━━━━━━━━━━━━━━━\u001b[0m\u001b[37m\u001b[0m \u001b[1m225s\u001b[0m 126ms/step - loss: 0.1728 - mae: 0.2374 - val_loss: 0.5329 - val_mae: 0.4555\n",
      "Epoch 4/10\n",
      "\u001b[1m1777/1777\u001b[0m \u001b[32m━━━━━━━━━━━━━━━━━━━━\u001b[0m\u001b[37m\u001b[0m \u001b[1m236s\u001b[0m 133ms/step - loss: 0.1173 - mae: 0.1892 - val_loss: 0.5060 - val_mae: 0.4068\n",
      "Epoch 5/10\n",
      "\u001b[1m1777/1777\u001b[0m \u001b[32m━━━━━━━━━━━━━━━━━━━━\u001b[0m\u001b[37m\u001b[0m \u001b[1m255s\u001b[0m 143ms/step - loss: 0.0863 - mae: 0.1570 - val_loss: 0.5171 - val_mae: 0.4128\n",
      "Epoch 6/10\n",
      "\u001b[1m1777/1777\u001b[0m \u001b[32m━━━━━━━━━━━━━━━━━━━━\u001b[0m\u001b[37m\u001b[0m \u001b[1m253s\u001b[0m 142ms/step - loss: 0.0650 - mae: 0.1339 - val_loss: 0.5072 - val_mae: 0.3926\n"
     ]
    }
   ],
   "source": [
    "history = model.fit(\n",
    "    [train_user_input, train_item_input, train_text_input],\n",
    "    y_train_tensor,\n",
    "    validation_data=([val_user, val_item, val_text], y_test_tensor),\n",
    "    epochs=10,\n",
    "    batch_size=256,\n",
    "    callbacks=[EarlyStopping(patience=2, restore_best_weights=True)]\n",
    ")\n"
   ]
  },
  {
   "cell_type": "code",
   "execution_count": 50,
   "id": "3308c115",
   "metadata": {},
   "outputs": [
    {
     "data": {
      "image/png": "[encoded data removed]",
      "text/plain": [
       "<Figure size 800x500 with 1 Axes>"
      ]
     },
     "metadata": {},
     "output_type": "display_data"
    }
   ],
   "source": [
    "import matplotlib.pyplot as plt\n",
    "\n",
    "# Eğitim ve doğrulama loss değerlerini al\n",
    "loss = history.history['loss']\n",
    "val_loss = history.history['val_loss']\n",
    "\n",
    "# Epoch sayısına göre x ekseni\n",
    "epochs = range(1, len(loss) + 1)\n",
    "\n",
    "# Grafik çizimi\n",
    "plt.figure(figsize=(8, 5))\n",
    "plt.plot(epochs, loss, label='Training Loss')\n",
    "plt.plot(epochs, val_loss, label='Validation Loss')\n",
    "plt.xlabel('Epoch')\n",
    "plt.ylabel('Loss')\n",
    "plt.title('Training vs Validation Loss')\n",
    "plt.legend()\n",
    "plt.grid(True)\n",
    "plt.show()"
   ]
  },
  {
   "cell_type": "code",
   "execution_count": 51,
   "id": "4c186d3e",
   "metadata": {},
   "outputs": [
    {
     "name": "stdout",
     "output_type": "stream",
     "text": [
      "\u001b[1m1/1\u001b[0m \u001b[32m━━━━━━━━━━━━━━━━━━━━\u001b[0m\u001b[37m\u001b[0m \u001b[1m0s\u001b[0m 33ms/step\n",
      "Tahmin edilen puan: 3.46\n"
     ]
    }
   ],
   "source": [
    "# Encode edilmiş user ve item ID'leri\n",
    "sample_user = tf.constant([val_user[0].numpy()], dtype=tf.int32)\n",
    "sample_item = tf.constant([val_item[0].numpy()], dtype=tf.int32)\n",
    "sample_text = tf.constant([\"this is a test review\"], dtype=tf.string)\n",
    "\n",
    "# Şimdi predict\n",
    "pred = model.predict([sample_user, sample_item, sample_text])\n",
    "print(f\"Tahmin edilen puan: {pred[0][0]:.2f}\")\n",
    "\n"
   ]
  },
  {
   "cell_type": "code",
   "execution_count": 52,
   "id": "822ef94c",
   "metadata": {},
   "outputs": [],
   "source": [
    "def recommend_for_user(raw_user_id, top_n=5):\n",
    "    # Kullanıcıyı encode et\n",
    "    encoded_user = user_enc.transform([raw_user_id])[0]\n",
    "\n",
    "    # Bu kullanıcı daha önce hangi ürünleri puanlamış\n",
    "    seen_items = df[df['user'] == encoded_user]['item'].values\n",
    "\n",
    "    # Tüm ürünlerden daha önce görmediklerini bul\n",
    "    candidate_items = [i for i in range(num_items) if i not in seen_items]\n",
    "\n",
    "    if not candidate_items:\n",
    "        print(\"Bu kullanıcı tüm ürünleri görmüş gibi 🤷\")\n",
    "        return []\n",
    "\n",
    "    # Dummy review (şu anda gerçek yorum bilmediğimiz için)\n",
    "    dummy_reviews = tf.constant([\"this is a placeholder review\"] * len(candidate_items), dtype=tf.string)\n",
    "\n",
    "    # Modelin istediği şekle sok\n",
    "    user_tensor = tf.constant([encoded_user] * len(candidate_items), dtype=tf.int32)\n",
    "    item_tensor = tf.constant(candidate_items, dtype=tf.int32)\n",
    "\n",
    "    # Tahminleri al\n",
    "    preds = model.predict([user_tensor, item_tensor, dummy_reviews], verbose=0)\n",
    "\n",
    "    # En yüksek puanlı ürünleri sırala\n",
    "    top_indices = preds.flatten().argsort()[-top_n:][::-1]\n",
    "    top_item_ids = [candidate_items[i] for i in top_indices]\n",
    "\n",
    "    # Orijinal ProductId'lere çevir\n",
    "    return item_enc.inverse_transform(top_item_ids)\n"
   ]
  },
  {
   "cell_type": "code",
   "execution_count": 53,
   "id": "46357159",
   "metadata": {},
   "outputs": [],
   "source": [
    "model = keras.models.load_model('recommender_model.keras')"
   ]
  },
  {
   "cell_type": "code",
   "execution_count": 54,
   "id": "67da022c",
   "metadata": {},
   "outputs": [
    {
     "name": "stdout",
     "output_type": "stream",
     "text": [
      "Önerilen Ürünler: ['B001BCUB7S' 'B007NRQ4O4' 'B001IZK5V0' 'B004NC82MY' 'B00061MUNS']\n"
     ]
    }
   ],
   "source": [
    "user_id = \"A10ZK1IH0PDGJU\"  # Örnek kullanıcı ID'si (raw ID)\n",
    "recommended_products = recommend_for_user(user_id, top_n=5)\n",
    "print(\"Önerilen Ürünler:\", recommended_products)\n"
   ]
  },
  {
   "cell_type": "code",
   "execution_count": 55,
   "id": "5a5bf1d5",
   "metadata": {},
   "outputs": [],
   "source": [
    "def get_user_reviewed_products(user_id, reviews_df):\n",
    "    user_reviews = reviews_df[reviews_df[\"UserId\"] == user_id]\n",
    "    if user_reviews.empty:\n",
    "        print(f\"❌ Kullanıcı {user_id} için yorum bulunamadı.\")\n",
    "        return\n",
    "\n",
    "    print(f\"👤 Kullanıcı: {user_id}\")\n",
    "    print(f\"🧾 Yorum sayısı: {len(user_reviews)}\\n\")\n",
    "\n",
    "    for idx, row in user_reviews.iterrows():\n",
    "        print(f\"📦 Ürün ID: {row['ProductId']}\")\n",
    "        print(f\"💬 Yorum: {row['Text']}\")\n",
    "        print(\"-\" * 50)\n"
   ]
  },
  {
   "cell_type": "code",
   "execution_count": 56,
   "id": "0d28bc5c",
   "metadata": {},
   "outputs": [],
   "source": [
    "def get_reviews_for_products(product_ids, reviews_df):\n",
    "    if isinstance(product_ids, str):\n",
    "        product_ids = [product_ids]\n",
    "\n",
    "    matched_reviews = reviews_df[reviews_df[\"ProductId\"].isin(product_ids)]\n",
    "\n",
    "    if matched_reviews.empty:\n",
    "        print(\"❌ Bu ürün(ler) için yorum bulunamadı.\")\n",
    "        return\n",
    "\n",
    "    for idx, row in matched_reviews.iterrows():\n",
    "        print(f\"📦 Ürün ID: {row['ProductId']}\")\n",
    "        print(f\"👤 Kullanıcı: {row['UserId']}\")\n",
    "        print(f\"💬 Yorum: {row['Text']}\")\n",
    "        print(\"-\" * 50)\n"
   ]
  },
  {
   "cell_type": "code",
   "execution_count": 57,
   "id": "a9053922",
   "metadata": {},
   "outputs": [
    {
     "name": "stdout",
     "output_type": "stream",
     "text": [
      "📦 Ürün ID: B001BCUB7S\n",
      "👤 Kullanıcı: A2SZLNSI5KOQJT\n",
      "💬 Yorum: All of my cats will try to eat this food.  However, the chicken chunks are on the largish side, so my older cats don't finish their portion(s) and will end up licking the \"juice\" off of the chunks.  My youngest cat (under 1 year old) will eat all of the food - chunks, juice and all.\n",
      "--------------------------------------------------\n",
      "📦 Ürün ID: B001BCUB7S\n",
      "👤 Kullanıcı: A87JI1JMRS0PG\n",
      "💬 Yorum: A great food for a decent price.  My kitty is crazy about the chunks, I think they are a good diversion from the usual pât&eacute; style canned cat food.  Yes, it has vegetables in it, but not an overbearing amount.  I recommend it.\n",
      "--------------------------------------------------\n",
      "📦 Ürün ID: B001BCUB7S\n",
      "👤 Kullanıcı: A1FNQRQHWS8949\n",
      "💬 Yorum: This stuff is a little spendy for my budget, but it's worth it. We're on our third case, and my two cats clean their bowls. Partly because maybe they're still a little hungry -- splitting a 3 oz. can between two adult cats every morning usually has them telling me they're still hungry, but I really can't afford to give them two cans every morning.<br /><br />But having said all that, they look terrific. The short-haired black cat, who had had an oily, prone to knot coat with tons of dandruff, is now sleek and shiny and nearly dandruff-free. We don't know her exact age, except closer to 20 than 10, and she really looks sleek and younger. Her eyes seem less runny, too.<br /><br />Our long-haired, blue-eyed flame point radgoll-looking beast is 11. His feline acne has cleared up and his eyes are less runny, too. He cleans his bowl every morning, and will lick the spoon when I offer it to him.<br /><br />I signed up for the standing, once-a-month order from Amazon. It's nice to have a case of cat food appear on my front step, with free shipping, that I didn't have to schlepp from a store.\n",
      "--------------------------------------------------\n",
      "📦 Ürün ID: B001BCUB7S\n",
      "👤 Kullanıcı: A35R32TA60XD57\n",
      "💬 Yorum: I wasn't sure what to expect from this food based on the reviews so I contacted the company.  I researched the ingredients for cats and dogs and was very impressed.  Also they sent me an email putting any fears of trying a new food to rest by telling me that if the food didn't work out for any reason, all I had to do was contact them and they would refund my money \"no questions asked\".  It seemed like a no lose situation so I ordered some of the chicken stew for my cats.  Two can eat chicken and one cannot so I served it to the poultry fans for their dinner.  They loved every bite of it and licked their bowls clean!  I loved the way my older one, who typically inhales her food, had to actually chew it so it slowed her down.  I am going to order more for them and some for my dog.  Great food to add to their rotation.\n",
      "--------------------------------------------------\n",
      "📦 Ürün ID: B001BCUB7S\n",
      "👤 Kullanıcı: A2GLAS20ZF64VR\n",
      "💬 Yorum: At 5:30 am my four cats usually are ready to devour almost flavor of cat food that I put in front of them.  However, they seem none too fond of Castor and Pollux Ultramix.  They will eat about 3/4 of the amount in their dishes (when served 1/2 can each)but no one goes around afterwards to gobble up food that one of their colleagues left behind.\n",
      "--------------------------------------------------\n",
      "📦 Ürün ID: B001BCUB7S\n",
      "👤 Kullanıcı: A3A2G9VQM83Y3P\n",
      "💬 Yorum: Good way to get more veggies into the cats...mash with the back of a spoon if your cats are \"gravy lickers\". 1 point off for not being organic. Cans are lined so there is less of that \"tinny\" smell. Note it says dog food in the product review, but this product is the cat version.\n",
      "--------------------------------------------------\n"
     ]
    }
   ],
   "source": [
    "get_reviews_for_products([\"B001BCUB7S\"], df)"
   ]
  },
  {
   "cell_type": "code",
   "execution_count": 58,
   "id": "9ec1ffdc",
   "metadata": {},
   "outputs": [
    {
     "name": "stdout",
     "output_type": "stream",
     "text": [
      "👤 Kullanıcı: A10ZK1IH0PDGJU\n",
      "🧾 Yorum sayısı: 13\n",
      "\n",
      "📦 Ürün ID: B000NVDZ0I\n",
      "💬 Yorum: These peppers have good color, aroma, and taste. I ordered a pound and am quite pleased with the amount of product per dollar. We use green peppers for many things: poaching salmon, flavoring corned beef, ground in salads, etc. So far I've found the peppers competitive with any other green peppers I've bought and they are less expensive to boot.\n",
      "--------------------------------------------------\n",
      "📦 Ürün ID: B000E1694G\n",
      "💬 Yorum: Just the right size for lunch on a cold day.  Easy to make.  Great taste.\n",
      "--------------------------------------------------\n",
      "📦 Ürün ID: B000NVCK68\n",
      "💬 Yorum: These peppers have good color, aroma, and taste. I ordered a pound and am quite pleased with the amount of product per dollar. We use green peppers for many things: poaching salmon, flavoring corned beef, ground in salads, etc. So far I've found the peppers competitive with any other green peppers I've bought and they are less expensive to boot.\n",
      "--------------------------------------------------\n",
      "📦 Ürün ID: B000NVFDT4\n",
      "💬 Yorum: These peppers have good color, aroma, and taste. I ordered a pound and am quite pleased with the amount of product per dollar. We use green peppers for many things: poaching salmon, flavoring corned beef, ground in salads, etc. So far I've found the peppers competitive with any other green peppers I've bought and they are less expensive to boot.\n",
      "--------------------------------------------------\n",
      "📦 Ürün ID: B002GWH7QA\n",
      "💬 Yorum: In case you have never brewed gunpowder or wonder why the name: This tea is very dry and the leaves are small and rolled tight. When the hot water hits the leaves, they \"explode\" - they swell to many times their original size. Thus, the name gunpowder refers more to the dry preparation technique of the leaves and the way they expand than it does to thy type of leaves or their taste. Warning, if you brew this tea (or any other gunpowder) use about 1/2 or 1/4 the amount that you would use with another tea. The tea is pretty bitter, a taste I like but it isn't for everyone. Since I like the taste and the explosion means less tea is used (less expensive per pot), I rated it 5 stars.\n",
      "--------------------------------------------------\n",
      "📦 Ürün ID: B0002NYO66\n",
      "💬 Yorum: I like these peppers in everything I've tried them in: salads, stews, and soups. I've never bought pink in bulk before and am still experimenting to find their place in my kitchen. (Thus, I cannot compare them to others' of the same type.) So far, I have found that pink peppers can be used anywhere greens can be. Their taste is slightly lite with a little snap and a great aroma. I'm guessing that this first-time purchase will be repeated. However, one pound of peppercorns will last a long time. The price from the single vendor, JR Mushrooms, seems very good. I'm guessing (due to lack of experience with the pink) that this purchase was a good bargain.\n",
      "--------------------------------------------------\n",
      "📦 Ürün ID: B002GWH6MA\n",
      "💬 Yorum: Like two other Coffee Bean Direct teas that I've ordered, the Earl Grey has a great bargain price for good quality tea. I brew and refrigerate a gallon at a time. The amount of tea that I need to make a gallon seems smallish - I'd estimate a little over a cubic inch. The bag measures to 200 cubic inches so I'm estimating 12 cents a gallon plus or minus some. Now that is a bargain! Since the tea tastes great, it's a real bargain.<br /><br />The unique ingredient in Earl Grey is called \"oil of bergamot\" and that is what gives the tea its unique aroma though it only has a small effect on the taste. The aroma in the bag is really kicky so take a sniff and enjoy.<br /><br />The only minus on this tea is the amount shipped, 2 lbs, and the large volume: where you going to store it? I'm keeping it in the bag but that might let the tea get stale after a while. I'd be willing to pay a dollar or two more if the tea shipped in a resealable bag, probably metal instead of paper, that was designed for long-term storage. This consideration does not knock off a star since it's a bargain even if I had to throw half of it away.\n",
      "--------------------------------------------------\n",
      "📦 Ürün ID: B0002NYO5M\n",
      "💬 Yorum: I like these peppers in everything I've tried them in: salads, stews, and soups. I've never bought pink in bulk before and am still experimenting to find their place in my kitchen. (Thus, I cannot compare them to others' of the same type.) So far, I have found that pink peppers can be used anywhere greens can be. Their taste is slightly lite with a little snap and a great aroma. I'm guessing that this first-time purchase will be repeated. However, one pound of peppercorns will last a long time. The price from the single vendor, JR Mushrooms, seems very good. I'm guessing (due to lack of experience with the pink) that this purchase was a good bargain.\n",
      "--------------------------------------------------\n",
      "📦 Ürün ID: B000WUVZCK\n",
      "💬 Yorum: My cats love these Greenies.  They beg for them several times per day.  Great product.\n",
      "--------------------------------------------------\n",
      "📦 Ürün ID: B002GWH7O2\n",
      "💬 Yorum: I ordered two 2 lb bags of tea. The first one looked like a standard 2 lb bag but I couldn't understand why the shipping carton was so big. Then I removed the peppermint bag and all was revealed: By measurement, the 2 lb peppermint bag was 4-5 times the volume of the other 2 lb bag. In other words, you are going to get a lot of tea for your money. I experimented with amount needed to brew a good tasting batch and I found that I should use the same amount (volume) I would of a heavier tea. Therefore, you are getting 4-5 times the amount of brewed tea for the same price. The tea tastes very good, about four and a half stars. I made it five stars because of the super bargain. The taste is very minty with a subtle bitter tea back taste. I don't use sweetener but this is one tea that might improve with a little.\n",
      "--------------------------------------------------\n",
      "📦 Ürün ID: B003RY8DGE\n",
      "💬 Yorum: This lemon curd is really very good. While not my favorite, it is good enough to rate five stars on taste factors; there is little else to care about. Some of my favorites, which seem no longer available, were thicker and spread more evenly. I was slightly disappointed when I first tasted this product but am slowly converting and think that my original wanting of \"thicker\" was a mere prejudice that was only justified by limited prior experience. I don't think this product will disappoint no matter what your prior expectations. One package of toasted English muffins and you'll be a convert!\n",
      "--------------------------------------------------\n",
      "📦 Ürün ID: B0005YN6VG\n",
      "💬 Yorum: I ran into one six pack of Canfield's diet fudge in the local market and grabbed it; hadn't seen a can for years since it is no longer carried in my town. The market had no idea how it got on their shelf but the computer checkout system was able to generate a price. Yum! And nostalgia. Market had no way to order more so I checked Amazon and they had it. Not only that, it was less than three dollars per six pack and that included shipping. I am now the proud owner of sixteen six packs but the supply is diminishing rapidly.<br /><br />I chill the cans in the refrigerator and pour in a glass to drink. I put some heavy whipping cream (not yet whipped) in the glass first. It takes the fudge drink from superb to stellar. Of course it plays havoc with the idea of diet.<br /><br />I hope you all order this product and lots of it. We need to convince Canfield's to get six packs back on the shelves of local stores so we can grab some whenever we need to. The price is higher than when I bought it so I'm going to have to pace myself. I can only hope that my re-acquired addiction doesn't drive me to the poor house.\n",
      "--------------------------------------------------\n",
      "📦 Ürün ID: B0002NYO5W\n",
      "💬 Yorum: I like these peppers in everything I've tried them in: salads, stews, and soups. I've never bought pink in bulk before and am still experimenting to find their place in my kitchen. (Thus, I cannot compare them to others' of the same type.) So far, I have found that pink peppers can be used anywhere greens can be. Their taste is slightly lite with a little snap and a great aroma. I'm guessing that this first-time purchase will be repeated. However, one pound of peppercorns will last a long time. The price from the single vendor, JR Mushrooms, seems very good. I'm guessing (due to lack of experience with the pink) that this purchase was a good bargain.\n",
      "--------------------------------------------------\n"
     ]
    }
   ],
   "source": [
    "get_user_reviewed_products(\"A10ZK1IH0PDGJU\", df)"
   ]
  },
  {
   "cell_type": "code",
   "execution_count": 58,
   "id": "cc283aa8",
   "metadata": {},
   "outputs": [],
   "source": [
    "model.save('recommender_model.keras')"
   ]
  },
  {
   "cell_type": "code",
   "execution_count": 60,
   "id": "6bfb1f93",
   "metadata": {},
   "outputs": [],
   "source": [
    "import keras\n",
    "model2 = keras.saving.load_model('recommender_model.keras')"
   ]
  }
 ],
 "metadata": {
  "kernelspec": {
   "display_name": "oruntu",
   "language": "python",
   "name": "python3"
  },
  "language_info": {
   "codemirror_mode": {
    "name": "ipython",
    "version": 3
   },
   "file_extension": ".py",
   "mimetype": "text/x-python",
   "name": "python",
   "nbconvert_exporter": "python",
   "pygments_lexer": "ipython3",
   "version": "3.11.11"
  }
 },
 "nbformat": 4,
 "nbformat_minor": 5
}
